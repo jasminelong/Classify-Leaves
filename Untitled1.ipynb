{
  "nbformat": 4,
  "nbformat_minor": 0,
  "metadata": {
    "colab": {
      "provenance": [],
      "authorship_tag": "ABX9TyOwjq02MfS4wB4XRPu8F2Jn",
      "include_colab_link": true
    },
    "kernelspec": {
      "name": "python3",
      "display_name": "Python 3"
    },
    "language_info": {
      "name": "python"
    },
    "accelerator": "GPU",
    "gpuClass": "standard"
  },
  "cells": [
    {
      "cell_type": "markdown",
      "metadata": {
        "id": "view-in-github",
        "colab_type": "text"
      },
      "source": [
        "<a href=\"https://colab.research.google.com/github/jasminelong/Classify-Leaves/blob/main/Untitled1.ipynb\" target=\"_parent\"><img src=\"https://colab.research.google.com/assets/colab-badge.svg\" alt=\"Open In Colab\"/></a>"
      ]
    },
    {
      "cell_type": "code",
      "execution_count": 31,
      "metadata": {
        "colab": {
          "base_uri": "https://localhost:8080/"
        },
        "id": "KtdUFPPsZ91L",
        "outputId": "d4637204-6238-4754-eaa4-2f86da1bad67"
      },
      "outputs": [
        {
          "output_type": "stream",
          "name": "stdout",
          "text": [
            "Drive already mounted at /content/gdrive; to attempt to forcibly remount, call drive.mount(\"/content/gdrive\", force_remount=True).\n"
          ]
        }
      ],
      "source": [
        "from google.colab import drive\n",
        "drive.mount('/content/gdrive')"
      ]
    },
    {
      "cell_type": "code",
      "source": [
        "!pip install albumentations --upgrade\n",
        "!pip install timm\n",
        "!pip install ttach\n",
        "!pip install pytorch-metric-learning\n",
        "!pip install imagehash\n",
        "!pip install torchinfo\n",
        "!pip install torch-lr-finder"
      ],
      "metadata": {
        "colab": {
          "base_uri": "https://localhost:8080/"
        },
        "id": "HDXOmpz_Np8o",
        "outputId": "685ce710-3a3b-44c5-8f12-963fd6c6d255"
      },
      "execution_count": 32,
      "outputs": [
        {
          "output_type": "stream",
          "name": "stdout",
          "text": [
            "Looking in indexes: https://pypi.org/simple, https://us-python.pkg.dev/colab-wheels/public/simple/\n",
            "Requirement already satisfied: albumentations in /usr/local/lib/python3.8/dist-packages (1.3.0)\n",
            "Requirement already satisfied: scikit-image>=0.16.1 in /usr/local/lib/python3.8/dist-packages (from albumentations) (0.19.3)\n",
            "Requirement already satisfied: qudida>=0.0.4 in /usr/local/lib/python3.8/dist-packages (from albumentations) (0.0.4)\n",
            "Requirement already satisfied: PyYAML in /usr/local/lib/python3.8/dist-packages (from albumentations) (6.0)\n",
            "Requirement already satisfied: opencv-python-headless>=4.1.1 in /usr/local/lib/python3.8/dist-packages (from albumentations) (4.7.0.72)\n",
            "Requirement already satisfied: numpy>=1.11.1 in /usr/local/lib/python3.8/dist-packages (from albumentations) (1.22.4)\n",
            "Requirement already satisfied: scipy in /usr/local/lib/python3.8/dist-packages (from albumentations) (1.10.1)\n",
            "Requirement already satisfied: typing-extensions in /usr/local/lib/python3.8/dist-packages (from qudida>=0.0.4->albumentations) (4.5.0)\n",
            "Requirement already satisfied: scikit-learn>=0.19.1 in /usr/local/lib/python3.8/dist-packages (from qudida>=0.0.4->albumentations) (1.2.1)\n",
            "Requirement already satisfied: pillow!=7.1.0,!=7.1.1,!=8.3.0,>=6.1.0 in /usr/local/lib/python3.8/dist-packages (from scikit-image>=0.16.1->albumentations) (8.4.0)\n",
            "Requirement already satisfied: tifffile>=2019.7.26 in /usr/local/lib/python3.8/dist-packages (from scikit-image>=0.16.1->albumentations) (2023.2.27)\n",
            "Requirement already satisfied: PyWavelets>=1.1.1 in /usr/local/lib/python3.8/dist-packages (from scikit-image>=0.16.1->albumentations) (1.4.1)\n",
            "Requirement already satisfied: networkx>=2.2 in /usr/local/lib/python3.8/dist-packages (from scikit-image>=0.16.1->albumentations) (3.0)\n",
            "Requirement already satisfied: imageio>=2.4.1 in /usr/local/lib/python3.8/dist-packages (from scikit-image>=0.16.1->albumentations) (2.9.0)\n",
            "Requirement already satisfied: packaging>=20.0 in /usr/local/lib/python3.8/dist-packages (from scikit-image>=0.16.1->albumentations) (23.0)\n",
            "Requirement already satisfied: joblib>=1.1.1 in /usr/local/lib/python3.8/dist-packages (from scikit-learn>=0.19.1->qudida>=0.0.4->albumentations) (1.2.0)\n",
            "Requirement already satisfied: threadpoolctl>=2.0.0 in /usr/local/lib/python3.8/dist-packages (from scikit-learn>=0.19.1->qudida>=0.0.4->albumentations) (3.1.0)\n",
            "Looking in indexes: https://pypi.org/simple, https://us-python.pkg.dev/colab-wheels/public/simple/\n",
            "Requirement already satisfied: timm in /usr/local/lib/python3.8/dist-packages (0.6.12)\n",
            "Requirement already satisfied: pyyaml in /usr/local/lib/python3.8/dist-packages (from timm) (6.0)\n",
            "Requirement already satisfied: torch>=1.7 in /usr/local/lib/python3.8/dist-packages (from timm) (1.13.1+cu116)\n",
            "Requirement already satisfied: huggingface-hub in /usr/local/lib/python3.8/dist-packages (from timm) (0.12.1)\n",
            "Requirement already satisfied: torchvision in /usr/local/lib/python3.8/dist-packages (from timm) (0.14.1+cu116)\n",
            "Requirement already satisfied: typing-extensions in /usr/local/lib/python3.8/dist-packages (from torch>=1.7->timm) (4.5.0)\n",
            "Requirement already satisfied: tqdm>=4.42.1 in /usr/local/lib/python3.8/dist-packages (from huggingface-hub->timm) (4.64.1)\n",
            "Requirement already satisfied: requests in /usr/local/lib/python3.8/dist-packages (from huggingface-hub->timm) (2.25.1)\n",
            "Requirement already satisfied: filelock in /usr/local/lib/python3.8/dist-packages (from huggingface-hub->timm) (3.9.0)\n",
            "Requirement already satisfied: packaging>=20.9 in /usr/local/lib/python3.8/dist-packages (from huggingface-hub->timm) (23.0)\n",
            "Requirement already satisfied: numpy in /usr/local/lib/python3.8/dist-packages (from torchvision->timm) (1.22.4)\n",
            "Requirement already satisfied: pillow!=8.3.*,>=5.3.0 in /usr/local/lib/python3.8/dist-packages (from torchvision->timm) (8.4.0)\n",
            "Requirement already satisfied: idna<3,>=2.5 in /usr/local/lib/python3.8/dist-packages (from requests->huggingface-hub->timm) (2.10)\n",
            "Requirement already satisfied: urllib3<1.27,>=1.21.1 in /usr/local/lib/python3.8/dist-packages (from requests->huggingface-hub->timm) (1.26.14)\n",
            "Requirement already satisfied: certifi>=2017.4.17 in /usr/local/lib/python3.8/dist-packages (from requests->huggingface-hub->timm) (2022.12.7)\n",
            "Requirement already satisfied: chardet<5,>=3.0.2 in /usr/local/lib/python3.8/dist-packages (from requests->huggingface-hub->timm) (4.0.0)\n",
            "Looking in indexes: https://pypi.org/simple, https://us-python.pkg.dev/colab-wheels/public/simple/\n",
            "Requirement already satisfied: ttach in /usr/local/lib/python3.8/dist-packages (0.0.3)\n",
            "Looking in indexes: https://pypi.org/simple, https://us-python.pkg.dev/colab-wheels/public/simple/\n",
            "Requirement already satisfied: pytorch-metric-learning in /usr/local/lib/python3.8/dist-packages (2.0.1)\n",
            "Requirement already satisfied: scikit-learn in /usr/local/lib/python3.8/dist-packages (from pytorch-metric-learning) (1.2.1)\n",
            "Requirement already satisfied: tqdm in /usr/local/lib/python3.8/dist-packages (from pytorch-metric-learning) (4.64.1)\n",
            "Requirement already satisfied: numpy in /usr/local/lib/python3.8/dist-packages (from pytorch-metric-learning) (1.22.4)\n",
            "Requirement already satisfied: torch>=1.6.0 in /usr/local/lib/python3.8/dist-packages (from pytorch-metric-learning) (1.13.1+cu116)\n",
            "Requirement already satisfied: typing-extensions in /usr/local/lib/python3.8/dist-packages (from torch>=1.6.0->pytorch-metric-learning) (4.5.0)\n",
            "Requirement already satisfied: threadpoolctl>=2.0.0 in /usr/local/lib/python3.8/dist-packages (from scikit-learn->pytorch-metric-learning) (3.1.0)\n",
            "Requirement already satisfied: scipy>=1.3.2 in /usr/local/lib/python3.8/dist-packages (from scikit-learn->pytorch-metric-learning) (1.10.1)\n",
            "Requirement already satisfied: joblib>=1.1.1 in /usr/local/lib/python3.8/dist-packages (from scikit-learn->pytorch-metric-learning) (1.2.0)\n",
            "Looking in indexes: https://pypi.org/simple, https://us-python.pkg.dev/colab-wheels/public/simple/\n",
            "Requirement already satisfied: imagehash in /usr/local/lib/python3.8/dist-packages (4.3.1)\n",
            "Requirement already satisfied: numpy in /usr/local/lib/python3.8/dist-packages (from imagehash) (1.22.4)\n",
            "Requirement already satisfied: PyWavelets in /usr/local/lib/python3.8/dist-packages (from imagehash) (1.4.1)\n",
            "Requirement already satisfied: pillow in /usr/local/lib/python3.8/dist-packages (from imagehash) (8.4.0)\n",
            "Requirement already satisfied: scipy in /usr/local/lib/python3.8/dist-packages (from imagehash) (1.10.1)\n",
            "Looking in indexes: https://pypi.org/simple, https://us-python.pkg.dev/colab-wheels/public/simple/\n",
            "Requirement already satisfied: torchinfo in /usr/local/lib/python3.8/dist-packages (1.7.2)\n",
            "Looking in indexes: https://pypi.org/simple, https://us-python.pkg.dev/colab-wheels/public/simple/\n",
            "Requirement already satisfied: torch-lr-finder in /usr/local/lib/python3.8/dist-packages (0.2.1)\n",
            "Requirement already satisfied: matplotlib in /usr/local/lib/python3.8/dist-packages (from torch-lr-finder) (3.5.3)\n",
            "Requirement already satisfied: numpy in /usr/local/lib/python3.8/dist-packages (from torch-lr-finder) (1.22.4)\n",
            "Requirement already satisfied: packaging in /usr/local/lib/python3.8/dist-packages (from torch-lr-finder) (23.0)\n",
            "Requirement already satisfied: torch>=0.4.1 in /usr/local/lib/python3.8/dist-packages (from torch-lr-finder) (1.13.1+cu116)\n",
            "Requirement already satisfied: tqdm in /usr/local/lib/python3.8/dist-packages (from torch-lr-finder) (4.64.1)\n",
            "Requirement already satisfied: typing-extensions in /usr/local/lib/python3.8/dist-packages (from torch>=0.4.1->torch-lr-finder) (4.5.0)\n",
            "Requirement already satisfied: cycler>=0.10 in /usr/local/lib/python3.8/dist-packages (from matplotlib->torch-lr-finder) (0.11.0)\n",
            "Requirement already satisfied: kiwisolver>=1.0.1 in /usr/local/lib/python3.8/dist-packages (from matplotlib->torch-lr-finder) (1.4.4)\n",
            "Requirement already satisfied: pillow>=6.2.0 in /usr/local/lib/python3.8/dist-packages (from matplotlib->torch-lr-finder) (8.4.0)\n",
            "Requirement already satisfied: python-dateutil>=2.7 in /usr/local/lib/python3.8/dist-packages (from matplotlib->torch-lr-finder) (2.8.2)\n",
            "Requirement already satisfied: fonttools>=4.22.0 in /usr/local/lib/python3.8/dist-packages (from matplotlib->torch-lr-finder) (4.38.0)\n",
            "Requirement already satisfied: pyparsing>=2.2.1 in /usr/local/lib/python3.8/dist-packages (from matplotlib->torch-lr-finder) (3.0.9)\n",
            "Requirement already satisfied: six>=1.5 in /usr/local/lib/python3.8/dist-packages (from python-dateutil>=2.7->matplotlib->torch-lr-finder) (1.15.0)\n"
          ]
        }
      ]
    },
    {
      "cell_type": "code",
      "source": [
        "!pip install thop\n",
        "!pip install torch_utils"
      ],
      "metadata": {
        "colab": {
          "base_uri": "https://localhost:8080/"
        },
        "id": "68lOvUCNNvmY",
        "outputId": "099b0c05-b804-4767-cd1e-491171ff4a88"
      },
      "execution_count": 33,
      "outputs": [
        {
          "output_type": "stream",
          "name": "stdout",
          "text": [
            "Looking in indexes: https://pypi.org/simple, https://us-python.pkg.dev/colab-wheels/public/simple/\n",
            "Requirement already satisfied: thop in /usr/local/lib/python3.8/dist-packages (0.1.1.post2209072238)\n",
            "Requirement already satisfied: torch in /usr/local/lib/python3.8/dist-packages (from thop) (1.13.1+cu116)\n",
            "Requirement already satisfied: typing-extensions in /usr/local/lib/python3.8/dist-packages (from torch->thop) (4.5.0)\n",
            "Looking in indexes: https://pypi.org/simple, https://us-python.pkg.dev/colab-wheels/public/simple/\n",
            "Requirement already satisfied: torch_utils in /usr/local/lib/python3.8/dist-packages (0.1.2)\n",
            "Requirement already satisfied: torch in /usr/local/lib/python3.8/dist-packages (from torch_utils) (1.13.1+cu116)\n",
            "Requirement already satisfied: typing-extensions in /usr/local/lib/python3.8/dist-packages (from torch->torch_utils) (4.5.0)\n"
          ]
        }
      ]
    },
    {
      "cell_type": "code",
      "source": [
        "import pandas as pd\n",
        "from torch.utils.data import Dataset, DataLoader\n",
        "import torchvision\n",
        "from torchvision import transforms\n",
        "import torch\n",
        "import torch.nn as nn\n",
        "import torch.nn.functional as F\n",
        "import numpy as np\n",
        "import PIL.Image as Image\n",
        "import matplotlib.pyplot as plt\n",
        "from sklearn.model_selection import train_test_split, StratifiedKFold\n",
        "import os\n",
        "import cv2\n",
        "import timm\n",
        "\n",
        "import albumentations\n",
        "from albumentations import pytorch as AT\n",
        "\n",
        "#below are all from https://github.com/seefun/TorchUtils, thanks seefun to provide such useful tools\n",
        "import torch_utils as tu"
      ],
      "metadata": {
        "id": "rkyleS0gN8ri"
      },
      "execution_count": 34,
      "outputs": []
    },
    {
      "cell_type": "code",
      "source": [
        "\n",
        "CLEAN_DATASET = 0\n",
        "FOLD = 5\n",
        "csv = pd.read_csv('clean_train_v4.csv') if CLEAN_DATASET else pd.read_csv('train.csv') #cleaned data has no obvious improvement\n",
        "print(csv.shape)\n",
        "sfolder = StratifiedKFold(n_splits=FOLD,random_state=709,shuffle=True)\n",
        "train_folds = []\n",
        "val_folds = []\n",
        "for i,(train_idx, val_idx) in enumerate(sfolder.split(csv['image'], csv['label'])):\n",
        "  train_folds.append(train_idx)\n",
        "  val_folds.append(val_idx)\n",
        "  print(len(train_idx), len(val_idx))"
      ],
      "metadata": {
        "colab": {
          "base_uri": "https://localhost:8080/"
        },
        "id": "DdbiB2hCPYal",
        "outputId": "af97c71b-0501-41bc-cd3d-d9581e76a35b"
      },
      "execution_count": 35,
      "outputs": [
        {
          "output_type": "stream",
          "name": "stdout",
          "text": [
            "(18353, 2)\n",
            "14682 3671\n",
            "14682 3671\n",
            "14682 3671\n",
            "14683 3670\n",
            "14683 3670\n"
          ]
        }
      ]
    },
    {
      "cell_type": "code",
      "source": [
        "labelmap_list = sorted(list(set(csv['label']))) #sorting is necessary to reproduce the order of the labelmap\n",
        "labelmap = dict()\n",
        "for i, label in enumerate(labelmap_list):\n",
        "  labelmap[label] = i\n",
        "print(labelmap)"
      ],
      "metadata": {
        "colab": {
          "base_uri": "https://localhost:8080/"
        },
        "id": "nUS86stGn22w",
        "outputId": "41da4e19-6833-45eb-b344-adf02ec5ee2b"
      },
      "execution_count": 36,
      "outputs": [
        {
          "output_type": "stream",
          "name": "stdout",
          "text": [
            "{'abies_concolor': 0, 'abies_nordmanniana': 1, 'acer_campestre': 2, 'acer_ginnala': 3, 'acer_griseum': 4, 'acer_negundo': 5, 'acer_palmatum': 6, 'acer_pensylvanicum': 7, 'acer_platanoides': 8, 'acer_pseudoplatanus': 9, 'acer_rubrum': 10, 'acer_saccharinum': 11, 'acer_saccharum': 12, 'aesculus_flava': 13, 'aesculus_glabra': 14, 'aesculus_hippocastamon': 15, 'aesculus_pavi': 16, 'ailanthus_altissima': 17, 'albizia_julibrissin': 18, 'amelanchier_arborea': 19, 'amelanchier_canadensis': 20, 'amelanchier_laevis': 21, 'asimina_triloba': 22, 'betula_alleghaniensis': 23, 'betula_jacqemontii': 24, 'betula_lenta': 25, 'betula_nigra': 26, 'betula_populifolia': 27, 'broussonettia_papyrifera': 28, 'carpinus_betulus': 29, 'carpinus_caroliniana': 30, 'carya_cordiformis': 31, 'carya_glabra': 32, 'carya_ovata': 33, 'carya_tomentosa': 34, 'castanea_dentata': 35, 'catalpa_bignonioides': 36, 'catalpa_speciosa': 37, 'cedrus_atlantica': 38, 'cedrus_deodara': 39, 'cedrus_libani': 40, 'celtis_occidentalis': 41, 'celtis_tenuifolia': 42, 'cercidiphyllum_japonicum': 43, 'cercis_canadensis': 44, 'chamaecyparis_pisifera': 45, 'chamaecyparis_thyoides': 46, 'chionanthus_retusus': 47, 'chionanthus_virginicus': 48, 'cladrastis_lutea': 49, 'cornus_florida': 50, 'cornus_kousa': 51, 'cornus_mas': 52, 'crataegus_crus-galli': 53, 'crataegus_laevigata': 54, 'crataegus_phaenopyrum': 55, 'crataegus_pruinosa': 56, 'crataegus_viridis': 57, 'cryptomeria_japonica': 58, 'diospyros_virginiana': 59, 'eucommia_ulmoides': 60, 'evodia_daniellii': 61, 'fagus_grandifolia': 62, 'ficus_carica': 63, 'fraxinus_nigra': 64, 'fraxinus_pennsylvanica': 65, 'ginkgo_biloba': 66, 'gleditsia_triacanthos': 67, 'gymnocladus_dioicus': 68, 'halesia_tetraptera': 69, 'ilex_opaca': 70, 'juglans_cinerea': 71, 'juglans_nigra': 72, 'juniperus_virginiana': 73, 'koelreuteria_paniculata': 74, 'larix_decidua': 75, 'liquidambar_styraciflua': 76, 'liriodendron_tulipifera': 77, 'maclura_pomifera': 78, 'magnolia_acuminata': 79, 'magnolia_denudata': 80, 'magnolia_grandiflora': 81, 'magnolia_macrophylla': 82, 'magnolia_stellata': 83, 'magnolia_tripetala': 84, 'magnolia_virginiana': 85, 'malus_baccata': 86, 'malus_coronaria': 87, 'malus_floribunda': 88, 'malus_hupehensis': 89, 'malus_pumila': 90, 'metasequoia_glyptostroboides': 91, 'morus_alba': 92, 'morus_rubra': 93, 'nyssa_sylvatica': 94, 'ostrya_virginiana': 95, 'oxydendrum_arboreum': 96, 'paulownia_tomentosa': 97, 'phellodendron_amurense': 98, 'picea_abies': 99, 'picea_orientalis': 100, 'picea_pungens': 101, 'pinus_bungeana': 102, 'pinus_cembra': 103, 'pinus_densiflora': 104, 'pinus_echinata': 105, 'pinus_flexilis': 106, 'pinus_koraiensis': 107, 'pinus_nigra': 108, 'pinus_parviflora': 109, 'pinus_peucea': 110, 'pinus_pungens': 111, 'pinus_resinosa': 112, 'pinus_rigida': 113, 'pinus_strobus': 114, 'pinus_sylvestris': 115, 'pinus_taeda': 116, 'pinus_thunbergii': 117, 'pinus_virginiana': 118, 'pinus_wallichiana': 119, 'platanus_acerifolia': 120, 'platanus_occidentalis': 121, 'populus_deltoides': 122, 'populus_grandidentata': 123, 'populus_tremuloides': 124, 'prunus_pensylvanica': 125, 'prunus_sargentii': 126, 'prunus_serotina': 127, 'prunus_serrulata': 128, 'prunus_subhirtella': 129, 'prunus_virginiana': 130, 'prunus_yedoensis': 131, 'pseudolarix_amabilis': 132, 'ptelea_trifoliata': 133, 'pyrus_calleryana': 134, 'quercus_acutissima': 135, 'quercus_alba': 136, 'quercus_bicolor': 137, 'quercus_cerris': 138, 'quercus_coccinea': 139, 'quercus_imbricaria': 140, 'quercus_macrocarpa': 141, 'quercus_marilandica': 142, 'quercus_michauxii': 143, 'quercus_montana': 144, 'quercus_muehlenbergii': 145, 'quercus_nigra': 146, 'quercus_palustris': 147, 'quercus_phellos': 148, 'quercus_robur': 149, 'quercus_shumardii': 150, 'quercus_stellata': 151, 'quercus_velutina': 152, 'quercus_virginiana': 153, 'robinia_pseudo-acacia': 154, 'salix_babylonica': 155, 'salix_caroliniana': 156, 'salix_matsudana': 157, 'salix_nigra': 158, 'sassafras_albidum': 159, 'staphylea_trifolia': 160, 'stewartia_pseudocamellia': 161, 'styrax_japonica': 162, 'taxodium_distichum': 163, 'tilia_americana': 164, 'tilia_cordata': 165, 'tilia_europaea': 166, 'tilia_tomentosa': 167, 'tsuga_canadensis': 168, 'ulmus_americana': 169, 'ulmus_glabra': 170, 'ulmus_parvifolia': 171, 'ulmus_procera': 172, 'ulmus_pumila': 173, 'ulmus_rubra': 174, 'zelkova_serrata': 175}\n"
          ]
        }
      ]
    },
    {
      "cell_type": "code",
      "source": [
        "class LeavesDataset(Dataset):\n",
        "  def __init__(self, csv, transform=None):\n",
        "    self.csv = csv\n",
        "    self.transform = transform\n",
        "  \n",
        "  def __len__(self):\n",
        "    return len(self.csv['image'])\n",
        "  \n",
        "  def __getitem__(self, idx):\n",
        "    img = cv2.imread(self.csv['image'][idx])\n",
        "    img = cv2.cvtColor(img, cv2.COLOR_BGR2RGB)\n",
        "    label = labelmap[self.csv['label'][idx]]\n",
        "    if self.transform:\n",
        "      img = self.transform(image = img)['image']\n",
        "    return img, torch.tensor(label).type(torch.LongTensor)\n",
        "\n",
        "def create_dls(train_csv, test_csv, train_transform, test_transform, bs, num_workers):\n",
        "  train_ds = LeavesDataset(train_csv, train_transform)\n",
        "  test_ds = LeavesDataset(test_csv, test_transform)\n",
        "  train_dl = DataLoader(train_ds, batch_size=bs, shuffle=True, num_workers=num_workers, drop_last=True)\n",
        "  test_dl = DataLoader(test_ds, batch_size=bs, shuffle=False, num_workers=num_workers, drop_last=False)\n",
        "  return train_dl, test_dl, len(train_ds), len(test_ds)\n",
        "\n",
        "train_transform1 = albumentations.Compose([\n",
        "    albumentations.Resize(112, 112, interpolation=cv2.INTER_AREA),\n",
        "    albumentations.RandomRotate90(p=0.5),\n",
        "    albumentations.Transpose(p=0.5),\n",
        "    albumentations.Flip(p=0.5),\n",
        "    albumentations.ShiftScaleRotate(shift_limit=0.0625, scale_limit=0.0625, rotate_limit=45, border_mode=1, p=0.5),\n",
        "    #tu.randAugment(N=2,M=6,p=1,cut_out=True),    \n",
        "    albumentations.Normalize(),\n",
        "    AT.ToTensorV2(),\n",
        "    ])\n",
        "    \n",
        "test_transform1 = albumentations.Compose([\n",
        "    albumentations.Resize(112, 112, interpolation=cv2.INTER_AREA),\n",
        "    albumentations.Normalize(),\n",
        "    AT.ToTensorV2(),\n",
        "    ])\n",
        "\n",
        "class LeavesTestDataset(Dataset):\n",
        "  def __init__(self, csv, transform=None):\n",
        "    self.csv = csv\n",
        "    self.transform = transform\n",
        "  \n",
        "  def __len__(self):\n",
        "    return len(self.csv['image'])\n",
        "  \n",
        "  def __getitem__(self, idx):\n",
        "    img = Image.open(self.csv['image'][idx])\n",
        "    if self.transform:\n",
        "      img = self.transform(img)\n",
        "    return img\n",
        "\n",
        "def create_testdls(test_csv, test_transform, bs):\n",
        "  test_ds = LeavesTestDataset(test_csv, test_transform)\n",
        "  test_dl = DataLoader(test_ds, batch_size=bs, shuffle=False, num_workers=2)\n",
        "  return test_dl\n",
        "\n",
        "transform_test = transforms.Compose([\n",
        "        transforms.Resize((112,112)),\n",
        "        transforms.ToTensor(),\n",
        "        transforms.Normalize((0.485, 0.456, 0.406), (0.229, 0.224, 0.225)),\n",
        "    ])\n",
        "\n",
        "def show_img(x):\n",
        "  trans = transforms.ToPILImage()\n",
        "  mean = torch.tensor([0.485, 0.456, 0.406]).view(3,1,1)\n",
        "  std = torch.tensor([0.229, 0.224, 0.225]).view(3,1,1)\n",
        "  x = (x*std)+mean\n",
        "  x_pil = trans(x)\n",
        "  return x_pil"
      ],
      "metadata": {
        "id": "37J9DrvMn3Xo"
      },
      "execution_count": 37,
      "outputs": []
    },
    {
      "cell_type": "code",
      "source": [
        "train_csv = csv.iloc[train_folds[0]].reset_index()\n",
        "val_csv = csv.iloc[val_folds[0]].reset_index()"
      ],
      "metadata": {
        "id": "FJsCKdUW1-c2"
      },
      "execution_count": 38,
      "outputs": []
    },
    {
      "cell_type": "code",
      "source": [
        "train_dl, val_dl, n_train, n_val = create_dls(train_csv, val_csv, train_transform=train_transform1, test_transform=test_transform1, bs=64, num_workers=4)\n",
        "     \n"
      ],
      "metadata": {
        "colab": {
          "base_uri": "https://localhost:8080/"
        },
        "id": "D-H5-b3L21rh",
        "outputId": "42ff5c16-1427-4beb-84e0-a9d23366d9c6"
      },
      "execution_count": 39,
      "outputs": [
        {
          "output_type": "stream",
          "name": "stderr",
          "text": [
            "/usr/local/lib/python3.8/dist-packages/torch/utils/data/dataloader.py:554: UserWarning: This DataLoader will create 4 worker processes in total. Our suggested max number of worker in current system is 2, which is smaller than what this DataLoader is going to create. Please be aware that excessive worker creation might get DataLoader running slow or even freeze, lower the worker number to avoid potential slowness/freeze if necessary.\n",
            "  warnings.warn(_create_warning_msg(\n"
          ]
        }
      ]
    },
    {
      "cell_type": "code",
      "source": [
        "#mixup_fn = Mixup(prob=1., switch_prob=0.0, onehot=True, label_smoothing=0.05, num_classes=176)\n",
        "for x, y in train_dl:\n",
        "  #imgs_train, labels_train = mixup_fn(x, y)\n",
        "  break"
      ],
      "metadata": {
        "id": "mO-5ZVzy3Ln5"
      },
      "execution_count": 40,
      "outputs": []
    },
    {
      "cell_type": "code",
      "source": [
        "y.shape"
      ],
      "metadata": {
        "colab": {
          "base_uri": "https://localhost:8080/"
        },
        "id": "KKTB6QUh3RX7",
        "outputId": "6fd831a7-df8f-4a62-c1ae-3c20947a4337"
      },
      "execution_count": 41,
      "outputs": [
        {
          "output_type": "execute_result",
          "data": {
            "text/plain": [
              "torch.Size([64])"
            ]
          },
          "metadata": {},
          "execution_count": 41
        }
      ]
    },
    {
      "cell_type": "code",
      "source": [
        "show_img((x[1]))"
      ],
      "metadata": {
        "colab": {
          "base_uri": "https://localhost:8080/",
          "height": 129
        },
        "id": "1EmGEtdU4suX",
        "outputId": "4c248d8d-9061-464c-eb95-a20502aaba79"
      },
      "execution_count": 42,
      "outputs": [
        {
          "output_type": "execute_result",
          "data": {
            "text/plain": [
              "<PIL.Image.Image image mode=RGB size=112x112 at 0x7F153595DA60>"
            ],
            "image/png": "[encoded data removed]"
          },
          "metadata": {},
          "execution_count": 42
        }
      ]
    },
    {
      "cell_type": "code",
      "source": [
        "model = timm.create_model('resnet50d', pretrained=True)"
      ],
      "metadata": {
        "id": "lmolmJ3p7Yjq"
      },
      "execution_count": 43,
      "outputs": []
    },
    {
      "cell_type": "code",
      "source": [
        "model.fc = nn.Linear(model.fc.in_features, len(labelmap_list))\n",
        "nn.init.xavier_uniform_(model.fc.weight);"
      ],
      "metadata": {
        "id": "cfJtpoz_7ZJO"
      },
      "execution_count": 44,
      "outputs": []
    },
    {
      "cell_type": "code",
      "source": [
        "model.cuda()\n",
        "device = 'cuda'"
      ],
      "metadata": {
        "id": "aMp99oVq7cH1"
      },
      "execution_count": 45,
      "outputs": []
    },
    {
      "cell_type": "code",
      "source": [
        "class LabelSmoothing(nn.Module):\n",
        "    \"\"\"NLL loss with label smoothing.\n",
        "    \"\"\"\n",
        "    def __init__(self, smoothing=0.0):\n",
        "        \"\"\"Constructor for the LabelSmoothing module.\n",
        "        :param smoothing: label smoothing factor\n",
        "        \"\"\"\n",
        "        super(LabelSmoothing, self).__init__()\n",
        "        self.confidence = 1.0 - smoothing\n",
        "        self.smoothing = smoothing\n",
        "\n",
        "    def forward(self, x, target):\n",
        "        logprobs = torch.nn.functional.log_softmax(x, dim=-1)\n",
        "        nll_loss = -logprobs.gather(dim=-1, index=target.unsqueeze(1))\n",
        "        nll_loss = nll_loss.squeeze(1)\n",
        "        smooth_loss = -logprobs.mean(dim=-1)\n",
        "        loss = self.confidence * nll_loss + self.smoothing * smooth_loss\n",
        "        return loss.mean()"
      ],
      "metadata": {
        "id": "_xGKe-mx7eQE"
      },
      "execution_count": 46,
      "outputs": []
    },
    {
      "cell_type": "code",
      "source": [
        "params_1x = [param for name, param in model.named_parameters()\n",
        "             if name not in [\"fc.weight\", \"fc.bias\"]]\n",
        "lr = 5e-4\n",
        "\n",
        "optimizer = torch.optim.AdamW([{'params': params_1x},\n",
        "                                   {'params': model.fc.parameters(),\n",
        "                                    'lr': lr * 10}],\n",
        "                                lr=lr, weight_decay=0.001) #finetuning\n",
        "'''\n",
        "from optim import RangerLars\n",
        "optimizer = RangerLars([{'params': params_1x},\n",
        "                        {'params': model.fc.parameters(),\n",
        "                                    'lr': lr * 10}], lr=lr, weight_decay=0.001)\n",
        "'''\n",
        "#optimizer = torch.optim.AdamW(model.parameters(), lr=lr, weight_decay=0.001)\n",
        "\n",
        "loss_fn = LabelSmoothing(0.1)"
      ],
      "metadata": {
        "id": "AGSqKdj89Seh"
      },
      "execution_count": 47,
      "outputs": []
    },
    {
      "cell_type": "code",
      "source": [
        "import math\n",
        "import matplotlib.pyplot as plt\n",
        "import numpy as np\n",
        "\n",
        "def find_lr(model, factor, train_dl, optimizer, loss_fn, device, init_lr=1e-8, final_lr=1e-1, beta=0.98, plot=True, save_dir=None):\n",
        "    num = len(train_dl) - 1\n",
        "    mult = (final_lr / init_lr) ** (1/num)\n",
        "    lr = init_lr\n",
        "    optimizer.param_groups[0]['lr'] = lr\n",
        "    avg_loss = 0.\n",
        "    best_loss = 0.\n",
        "    batch_num = 0\n",
        "    losses = []\n",
        "    log_lrs = []\n",
        "    scaler = torch.cuda.amp.GradScaler() # for AMP training \n",
        "    if 1:\n",
        "      for x, y in train_dl:\n",
        "          x, y = x.to(device), y.to(device)\n",
        "          batch_num += 1\n",
        "          optimizer.zero_grad()\n",
        "          with torch.cuda.amp.autocast():\n",
        "            out = model(x)\n",
        "            loss = loss_fn(out, y)\n",
        "          #smoothen the loss\n",
        "          avg_loss = beta * avg_loss + (1-beta) * loss.data.item() #check\n",
        "          smoothed_loss = avg_loss / (1 - beta**batch_num) #bias correction\n",
        "          #stop if loss explodes\n",
        "          if batch_num > 1 and smoothed_loss > 4 * best_loss: #prevents explosion\n",
        "              break\n",
        "          #record the best loss\n",
        "          if smoothed_loss < best_loss or batch_num == 1:\n",
        "              best_loss = smoothed_loss\n",
        "          #store the values\n",
        "          losses.append(smoothed_loss)\n",
        "          log_lrs.append(math.log10(lr))\n",
        "          #do the sgd step\n",
        "          #loss.backward()\n",
        "          #optimizer.step()\n",
        "          scaler.scale(loss).backward()\n",
        "          scaler.step(optimizer)\n",
        "          scaler.update()\n",
        "          #update the lr for the next step\n",
        "          lr *= mult\n",
        "          optimizer.param_groups[0]['lr'] = lr\n",
        "    #Suggest a learning rate\n",
        "    log_lrs, losses = np.array(log_lrs), np.array(losses)\n",
        "    idx_min = np.argmin(losses)\n",
        "    min_log_lr = log_lrs[idx_min]\n",
        "    lr_auto = (10 ** (min_log_lr)) /factor\n",
        "    if plot:\n",
        "        selected = [np.argmin(np.abs(log_lrs - (min_log_lr-1)))] #highlight the suggested lr\n",
        "        plt.figure()\n",
        "        plt.plot(log_lrs, losses,'-gD', markevery=selected)\n",
        "        plt.xlabel('log_lrs')\n",
        "        plt.ylabel('loss')\n",
        "        plt.title('LR Range Test')\n",
        "        if save_dir is not None:\n",
        "            plt.savefig(f'{save_dir}/lr_range_test.png')\n",
        "        else:\n",
        "            plt.savefig(f'lr_range_test.png')\n",
        "    return lr_auto"
      ],
      "metadata": {
        "id": "vouQQ7Bt9aFQ"
      },
      "execution_count": 48,
      "outputs": []
    },
    {
      "cell_type": "code",
      "source": [
        "tu"
      ],
      "metadata": {
        "colab": {
          "base_uri": "https://localhost:8080/"
        },
        "id": "m3LD-hDGDWud",
        "outputId": "0c472b85-70c8-47d8-9aa1-6c86afadb03c"
      },
      "execution_count": 57,
      "outputs": [
        {
          "output_type": "execute_result",
          "data": {
            "text/plain": [
              "<module 'torch_utils' from '/usr/local/lib/python3.8/dist-packages/torch_utils/__init__.py'>"
            ]
          },
          "metadata": {},
          "execution_count": 57
        }
      ]
    },
    {
      "cell_type": "code",
      "source": [
        "def get_learner(lr, nb, epochs, model_name='resnet50d', MIXUP=0.1):\n",
        "  mixup_fn = tu.Mixup(prob=MIXUP, switch_prob=0.0, onehot=True, label_smoothing=0.05, num_classes=len(labelmap_list))\n",
        "  model = timm.create_model(model_name, pretrained=True)\n",
        "  model.fc = nn.Linear(model.fc.in_features, len(labelmap_list))\n",
        "  nn.init.xavier_uniform_(model.fc.weight)\n",
        "  model.cuda()\n",
        "\n",
        "  params_1x = [param for name, param in model.named_parameters()\n",
        "              if name not in [\"fc.weight\", \"fc.bias\"]]\n",
        "\n",
        "  optimizer = torch.optim.AdamW([{'params': params_1x},\n",
        "                                    {'params': model.fc.parameters(),\n",
        "                                      'lr': lr*10}],\n",
        "                                  lr=lr, weight_decay=2e-4)\n",
        "\n",
        "  loss_fn = tu.SoftTargetCrossEntropy() if MIXUP else LabelSmoothing(0.1)\n",
        "  loss_fn_test = F.cross_entropy\n",
        "  '''\n",
        "  import math\n",
        "  def warmup_one_cycle(y1=0.0, y2=1.0, steps=100, warmup_steps=0): #no warmup is better experimentally\n",
        "          #sinusoidal ramp from y1 to y2 https://arxiv.org/pdf/1812.01187.pdf\n",
        "          return lambda x: x / warmup_steps if x < warmup_steps \\\n",
        "                          else ((1 - math.cos((x-warmup_steps) * math.pi / steps)) / 2) * (y2 - y1) + y1\n",
        "\n",
        "  lf = warmup_one_cycle(1, 0.2, epochs*nb, 3*nb)\n",
        "  #lr_scheduler = torch.optim.lr_scheduler.LambdaLR(optimizer, lr_lambda=lf) \n",
        "    #lr_scheduler = torch.optim.lr_scheduler.CosineAnnealingWarmRestarts(optimizer, T_0=5*nb, eta_min=lr_suggested/100)\n",
        "  '''\n",
        "  lr_scheduler = torch.optim.lr_scheduler.CosineAnnealingLR(optimizer, T_max=epochs*nb, eta_min=lr/20)\n",
        "  return model, optimizer, loss_fn, loss_fn_test, lr_scheduler, mixup_fn\n",
        "     "
      ],
      "metadata": {
        "id": "GJ_J8FjO9qnk"
      },
      "execution_count": 53,
      "outputs": []
    },
    {
      "cell_type": "code",
      "source": [
        "\n",
        "#Start training\n",
        "import time\n",
        "import ttach as tta\n",
        "device = 'cuda'\n",
        "save_dir = './gdrive/MyDrive/kaggle_leave_classification/'\n",
        "#map from idx to string\n",
        "labelmap_inverse = dict()\n",
        "for key_ in labelmap.keys():\n",
        "  labelmap_inverse[labelmap[key_]] = key_\n",
        "EPOCHS = 50\n",
        "MIXUP = 0.1\n",
        " \n",
        "scaler = torch.cuda.amp.GradScaler() # for AMP training \n",
        "\n",
        "for fold in range(FOLD):\n",
        "  print(f'Start Fold{fold}...')\n",
        "  train_csv = csv.iloc[train_folds[2]].reset_index()\n",
        "  val_csv = csv.iloc[val_folds[2]].reset_index()\n",
        "  train_dl, val_dl, n_train, n_val = create_dls(train_csv, val_csv, train_transform=train_transform1, test_transform=test_transform1, bs=64, num_workers=4)\n",
        "  model, optimizer, loss_fn, loss_fn_test, lr_scheduler, mixup_fn = get_learner(3e-4, len(train_dl), EPOCHS, model_name='resnet50d', MIXUP=MIXUP)\n",
        "  model_name = f'5fold_test_fold{fold}'\n",
        "  train_losses = [] \n",
        "  val_losses = []\n",
        "  train_accus = []\n",
        "  val_accus = []\n",
        "  best_accu = 0\n",
        "  best_loss = float('inf')\n",
        "  lrs = []\n",
        "  for epoch in range(EPOCHS):\n",
        "          t1 = time.time()\n",
        "          val_accu = 0\n",
        "          train_accu = 0\n",
        "          train_losses_tmp = []\n",
        "          #Train\n",
        "          model.train()\n",
        "          t_inf = 0\n",
        "          for x, y in train_dl:\n",
        "              if MIXUP:\n",
        "                x, y = mixup_fn(x, y)\n",
        "              x, y = x.to(device), y.to(device)\n",
        "              #Forward\n",
        "              with torch.cuda.amp.autocast():\n",
        "                pred = model(x)\n",
        "                loss = loss_fn(pred, y)\n",
        "              #Backward\n",
        "              #loss.backward()\n",
        "              #optimizer.step()\n",
        "              scaler.scale(loss).backward()\n",
        "              scaler.step(optimizer)\n",
        "              scaler.update()\n",
        "              lr_scheduler.step()\n",
        "              optimizer.zero_grad()\n",
        "              #Statistics\n",
        "              lrs.append(optimizer.param_groups[0]['lr']) #group 0,1,2 share the learning rate\n",
        "              train_losses_tmp.append(loss.data.item())\n",
        "              pred_labels = torch.argmax(pred.data, dim=1)\n",
        "              y_labels = torch.argmax(y.data, dim=1) if MIXUP else y.data\n",
        "              train_accu += (pred_labels==y_labels).float().sum()\n",
        "          t_inf /= len(train_dl)\n",
        "          train_losses.append(np.mean(np.array(train_losses_tmp)))\n",
        "          train_accu /= n_train\n",
        "          train_accus.append(train_accu.data.item())\n",
        "\n",
        "          t2 = time.time()\n",
        "          #Validation\n",
        "          val_losses_tmp = []\n",
        "          model.eval()\n",
        "          with torch.no_grad():\n",
        "            for x, y in val_dl:\n",
        "                x, y = x.to(device), y.to(device)\n",
        "                logit = model(x)\n",
        "                val_loss = loss_fn_test(logit, y) \n",
        "                val_losses_tmp.append(val_loss.data.item())\n",
        "                pred = torch.argmax(logit.data, dim=1)\n",
        "                val_accu += (pred==y.data).float().sum()\n",
        "          t3 = time.time()\n",
        "          val_loss = np.mean(np.array(val_losses_tmp))\n",
        "          val_losses.append(val_loss)\n",
        "          val_accu /= n_val\n",
        "          val_accus.append(val_accu.data.item())\n",
        "          print('fold', fold, 'epoch', epoch, 'train_loss', train_losses[epoch], 'val_loss', val_losses[epoch], 'val_accu', val_accu, 'train_accu', train_accu, 'train time', t2-t1, 'val time', t3-t2, 'lr[0]', lrs[-1])\n",
        "          if save_dir is not None:\n",
        "              if val_accu == best_accu:\n",
        "                  if val_loss < best_loss: #never satisfied\n",
        "                      checkpoint = {\"model\": model.state_dict()}\n",
        "                      torch.save(checkpoint, os.path.join(save_dir,f'{model_name}_best.pth'))\n",
        "                      print(f'Stored a new best model in {save_dir}')\n",
        "                      best_loss = val_loss\n",
        "              elif val_accu > best_accu:\n",
        "                  checkpoint = {\"model\": model.state_dict()}\n",
        "                  torch.save(checkpoint, os.path.join(save_dir,f'{model_name}_best.pth'))\n",
        "                  print(f'Stored a new best model in {save_dir}')\n",
        "                  best_accu = val_accu\n",
        "              '''\n",
        "              if epoch == EPOCHS - 1:\n",
        "                  checkpoint = {\"model\": model.state_dict()}\n",
        "                  torch.save(checkpoint, os.path.join(save_dir,f'{model_name}_last.pth'))\n",
        "                  print(f'Stored the last model in {save_dir}')\n",
        "              '''\n",
        "  #test time\n",
        "  test_csv = pd.read_csv('test.csv')\n",
        "  test_dl = create_testdls(test_csv, transform_test, bs=8)\n",
        "  model.eval()\n",
        "  tta_model = tta.ClassificationTTAWrapper(model, tta.aliases.flip_transform(),  merge_mode='mean')\n",
        "  tta_model.eval()\n",
        "  res = []\n",
        "  for x in test_dl:\n",
        "      x = x.to(device)\n",
        "      logit = tta_model(x)\n",
        "      pred = torch.argmax(logit.data, dim=1).cpu().numpy()\n",
        "      for i in range(len(pred)):\n",
        "          res.append(labelmap_inverse[pred[i]])\n",
        "  test_csv.insert(1, 'label', res)\n",
        "  \n",
        "  test_csv.to_csv(f'submission_e50{model_name}_fold{fold}.csv', index=False)\n",
        "  print('test cvs is saved')"
      ],
      "metadata": {
        "colab": {
          "base_uri": "https://localhost:8080/",
          "height": 461
        },
        "id": "Z76B1TVG-g2u",
        "outputId": "8bc78cc8-a600-418c-8ed0-c87c4d93a650"
      },
      "execution_count": 54,
      "outputs": [
        {
          "output_type": "stream",
          "name": "stdout",
          "text": [
            "Start Fold0...\n"
          ]
        },
        {
          "output_type": "stream",
          "name": "stderr",
          "text": [
            "/usr/local/lib/python3.8/dist-packages/torch/utils/data/dataloader.py:554: UserWarning: This DataLoader will create 4 worker processes in total. Our suggested max number of worker in current system is 2, which is smaller than what this DataLoader is going to create. Please be aware that excessive worker creation might get DataLoader running slow or even freeze, lower the worker number to avoid potential slowness/freeze if necessary.\n",
            "  warnings.warn(_create_warning_msg(\n"
          ]
        },
        {
          "output_type": "error",
          "ename": "AttributeError",
          "evalue": "ignored",
          "traceback": [
            "\u001b[0;31m---------------------------------------------------------------------------\u001b[0m",
            "\u001b[0;31mAttributeError\u001b[0m                            Traceback (most recent call last)",
            "\u001b[0;32m<ipython-input-54-681fe8af7327>\u001b[0m in \u001b[0;36m<module>\u001b[0;34m\u001b[0m\n\u001b[1;32m     18\u001b[0m   \u001b[0mval_csv\u001b[0m \u001b[0;34m=\u001b[0m \u001b[0mcsv\u001b[0m\u001b[0;34m.\u001b[0m\u001b[0miloc\u001b[0m\u001b[0;34m[\u001b[0m\u001b[0mval_folds\u001b[0m\u001b[0;34m[\u001b[0m\u001b[0;36m2\u001b[0m\u001b[0;34m]\u001b[0m\u001b[0;34m]\u001b[0m\u001b[0;34m.\u001b[0m\u001b[0mreset_index\u001b[0m\u001b[0;34m(\u001b[0m\u001b[0;34m)\u001b[0m\u001b[0;34m\u001b[0m\u001b[0;34m\u001b[0m\u001b[0m\n\u001b[1;32m     19\u001b[0m   \u001b[0mtrain_dl\u001b[0m\u001b[0;34m,\u001b[0m \u001b[0mval_dl\u001b[0m\u001b[0;34m,\u001b[0m \u001b[0mn_train\u001b[0m\u001b[0;34m,\u001b[0m \u001b[0mn_val\u001b[0m \u001b[0;34m=\u001b[0m \u001b[0mcreate_dls\u001b[0m\u001b[0;34m(\u001b[0m\u001b[0mtrain_csv\u001b[0m\u001b[0;34m,\u001b[0m \u001b[0mval_csv\u001b[0m\u001b[0;34m,\u001b[0m \u001b[0mtrain_transform\u001b[0m\u001b[0;34m=\u001b[0m\u001b[0mtrain_transform1\u001b[0m\u001b[0;34m,\u001b[0m \u001b[0mtest_transform\u001b[0m\u001b[0;34m=\u001b[0m\u001b[0mtest_transform1\u001b[0m\u001b[0;34m,\u001b[0m \u001b[0mbs\u001b[0m\u001b[0;34m=\u001b[0m\u001b[0;36m64\u001b[0m\u001b[0;34m,\u001b[0m \u001b[0mnum_workers\u001b[0m\u001b[0;34m=\u001b[0m\u001b[0;36m4\u001b[0m\u001b[0;34m)\u001b[0m\u001b[0;34m\u001b[0m\u001b[0;34m\u001b[0m\u001b[0m\n\u001b[0;32m---> 20\u001b[0;31m   \u001b[0mmodel\u001b[0m\u001b[0;34m,\u001b[0m \u001b[0moptimizer\u001b[0m\u001b[0;34m,\u001b[0m \u001b[0mloss_fn\u001b[0m\u001b[0;34m,\u001b[0m \u001b[0mloss_fn_test\u001b[0m\u001b[0;34m,\u001b[0m \u001b[0mlr_scheduler\u001b[0m\u001b[0;34m,\u001b[0m \u001b[0mmixup_fn\u001b[0m \u001b[0;34m=\u001b[0m \u001b[0mget_learner\u001b[0m\u001b[0;34m(\u001b[0m\u001b[0;36m3e-4\u001b[0m\u001b[0;34m,\u001b[0m \u001b[0mlen\u001b[0m\u001b[0;34m(\u001b[0m\u001b[0mtrain_dl\u001b[0m\u001b[0;34m)\u001b[0m\u001b[0;34m,\u001b[0m \u001b[0mEPOCHS\u001b[0m\u001b[0;34m,\u001b[0m \u001b[0mmodel_name\u001b[0m\u001b[0;34m=\u001b[0m\u001b[0;34m'resnet50d'\u001b[0m\u001b[0;34m,\u001b[0m \u001b[0mMIXUP\u001b[0m\u001b[0;34m=\u001b[0m\u001b[0mMIXUP\u001b[0m\u001b[0;34m)\u001b[0m\u001b[0;34m\u001b[0m\u001b[0;34m\u001b[0m\u001b[0m\n\u001b[0m\u001b[1;32m     21\u001b[0m   \u001b[0mmodel_name\u001b[0m \u001b[0;34m=\u001b[0m \u001b[0;34mf'5fold_test_fold{fold}'\u001b[0m\u001b[0;34m\u001b[0m\u001b[0;34m\u001b[0m\u001b[0m\n\u001b[1;32m     22\u001b[0m   \u001b[0mtrain_losses\u001b[0m \u001b[0;34m=\u001b[0m \u001b[0;34m[\u001b[0m\u001b[0;34m]\u001b[0m\u001b[0;34m\u001b[0m\u001b[0;34m\u001b[0m\u001b[0m\n",
            "\u001b[0;32m<ipython-input-53-0436b248b151>\u001b[0m in \u001b[0;36mget_learner\u001b[0;34m(lr, nb, epochs, model_name, MIXUP)\u001b[0m\n\u001b[1;32m      1\u001b[0m \u001b[0;32mdef\u001b[0m \u001b[0mget_learner\u001b[0m\u001b[0;34m(\u001b[0m\u001b[0mlr\u001b[0m\u001b[0;34m,\u001b[0m \u001b[0mnb\u001b[0m\u001b[0;34m,\u001b[0m \u001b[0mepochs\u001b[0m\u001b[0;34m,\u001b[0m \u001b[0mmodel_name\u001b[0m\u001b[0;34m=\u001b[0m\u001b[0;34m'resnet50d'\u001b[0m\u001b[0;34m,\u001b[0m \u001b[0mMIXUP\u001b[0m\u001b[0;34m=\u001b[0m\u001b[0;36m0.1\u001b[0m\u001b[0;34m)\u001b[0m\u001b[0;34m:\u001b[0m\u001b[0;34m\u001b[0m\u001b[0;34m\u001b[0m\u001b[0m\n\u001b[0;32m----> 2\u001b[0;31m   \u001b[0mmixup_fn\u001b[0m \u001b[0;34m=\u001b[0m \u001b[0mtu\u001b[0m\u001b[0;34m.\u001b[0m\u001b[0mdataset\u001b[0m\u001b[0;34m.\u001b[0m\u001b[0mMixup\u001b[0m\u001b[0;34m(\u001b[0m\u001b[0mprob\u001b[0m\u001b[0;34m=\u001b[0m\u001b[0mMIXUP\u001b[0m\u001b[0;34m,\u001b[0m \u001b[0mswitch_prob\u001b[0m\u001b[0;34m=\u001b[0m\u001b[0;36m0.0\u001b[0m\u001b[0;34m,\u001b[0m \u001b[0monehot\u001b[0m\u001b[0;34m=\u001b[0m\u001b[0;32mTrue\u001b[0m\u001b[0;34m,\u001b[0m \u001b[0mlabel_smoothing\u001b[0m\u001b[0;34m=\u001b[0m\u001b[0;36m0.05\u001b[0m\u001b[0;34m,\u001b[0m \u001b[0mnum_classes\u001b[0m\u001b[0;34m=\u001b[0m\u001b[0mlen\u001b[0m\u001b[0;34m(\u001b[0m\u001b[0mlabelmap_list\u001b[0m\u001b[0;34m)\u001b[0m\u001b[0;34m)\u001b[0m\u001b[0;34m\u001b[0m\u001b[0;34m\u001b[0m\u001b[0m\n\u001b[0m\u001b[1;32m      3\u001b[0m   \u001b[0mmodel\u001b[0m \u001b[0;34m=\u001b[0m \u001b[0mtimm\u001b[0m\u001b[0;34m.\u001b[0m\u001b[0mcreate_model\u001b[0m\u001b[0;34m(\u001b[0m\u001b[0mmodel_name\u001b[0m\u001b[0;34m,\u001b[0m \u001b[0mpretrained\u001b[0m\u001b[0;34m=\u001b[0m\u001b[0;32mTrue\u001b[0m\u001b[0;34m)\u001b[0m\u001b[0;34m\u001b[0m\u001b[0;34m\u001b[0m\u001b[0m\n\u001b[1;32m      4\u001b[0m   \u001b[0mmodel\u001b[0m\u001b[0;34m.\u001b[0m\u001b[0mfc\u001b[0m \u001b[0;34m=\u001b[0m \u001b[0mnn\u001b[0m\u001b[0;34m.\u001b[0m\u001b[0mLinear\u001b[0m\u001b[0;34m(\u001b[0m\u001b[0mmodel\u001b[0m\u001b[0;34m.\u001b[0m\u001b[0mfc\u001b[0m\u001b[0;34m.\u001b[0m\u001b[0min_features\u001b[0m\u001b[0;34m,\u001b[0m \u001b[0mlen\u001b[0m\u001b[0;34m(\u001b[0m\u001b[0mlabelmap_list\u001b[0m\u001b[0;34m)\u001b[0m\u001b[0;34m)\u001b[0m\u001b[0;34m\u001b[0m\u001b[0;34m\u001b[0m\u001b[0m\n\u001b[1;32m      5\u001b[0m   \u001b[0mnn\u001b[0m\u001b[0;34m.\u001b[0m\u001b[0minit\u001b[0m\u001b[0;34m.\u001b[0m\u001b[0mxavier_uniform_\u001b[0m\u001b[0;34m(\u001b[0m\u001b[0mmodel\u001b[0m\u001b[0;34m.\u001b[0m\u001b[0mfc\u001b[0m\u001b[0;34m.\u001b[0m\u001b[0mweight\u001b[0m\u001b[0;34m)\u001b[0m\u001b[0;34m\u001b[0m\u001b[0;34m\u001b[0m\u001b[0m\n",
            "\u001b[0;31mAttributeError\u001b[0m: module 'torch_utils' has no attribute 'dataset'"
          ]
        }
      ]
    }
  ]
}